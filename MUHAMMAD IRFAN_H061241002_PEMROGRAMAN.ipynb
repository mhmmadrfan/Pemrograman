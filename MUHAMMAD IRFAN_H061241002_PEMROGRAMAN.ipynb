{
 "cells": [
  {
   "cell_type": "markdown",
   "metadata": {},
   "source": [
    "# No. 1"
   ]
  },
  {
   "cell_type": "code",
   "execution_count": 1,
   "metadata": {},
   "outputs": [
    {
     "name": "stdout",
     "output_type": "stream",
     "text": [
      "Total harga sebelum diskon: Rp 100000.00\n",
      "Diskon: 10%\n",
      "Total harga setelah diskon: Rp 90000.00\n"
     ]
    }
   ],
   "source": [
    "nim_terakhir = 2  # dari \"002\"\n",
    "\n",
    "total_harga = 100000 \n",
    "\n",
    "if nim_terakhir % 2 == 0:\n",
    "    diskon = 0.10 \n",
    "else:\n",
    "    diskon = 0.05  \n",
    "\n",
    "diskon_harga = total_harga * diskon\n",
    "total_setelah_diskon = total_harga - diskon_harga\n",
    "\n",
    "print(f\"Total harga sebelum diskon: Rp {total_harga:.2f}\")\n",
    "print(f\"Diskon: {diskon * 100:.0f}%\")\n",
    "print(f\"Total harga setelah diskon: Rp {total_setelah_diskon:.2f}\")\n"
   ]
  },
  {
   "cell_type": "markdown",
   "metadata": {},
   "source": [
    "# No. 2"
   ]
  },
  {
   "cell_type": "code",
   "execution_count": 2,
   "metadata": {},
   "outputs": [
    {
     "name": "stdout",
     "output_type": "stream",
     "text": [
      "Nilai ujian: 84\n",
      "Syarat kelulusan: 75\n",
      "Status: Lulus\n"
     ]
    }
   ],
   "source": [
    "nim_terakhir = 2  # dari \"002\"\n",
    "\n",
    "nilai = 84  \n",
    "\n",
    "if nim_terakhir > 500:\n",
    "    syarat_kelulusan = 80\n",
    "else:\n",
    "    syarat_kelulusan = 75\n",
    "\n",
    "if nilai >= syarat_kelulusan:\n",
    "    status = \"Lulus\"\n",
    "else:\n",
    "    status = \"Tidak Lulus\"\n",
    "\n",
    "print(f\"Nilai ujian: {nilai}\")\n",
    "print(f\"Syarat kelulusan: {syarat_kelulusan}\")\n",
    "print(f\"Status: {status}\")\n"
   ]
  },
  {
   "cell_type": "markdown",
   "metadata": {},
   "source": [
    "# No. 3"
   ]
  },
  {
   "cell_type": "code",
   "execution_count": 5,
   "metadata": {},
   "outputs": [
    {
     "name": "stdout",
     "output_type": "stream",
     "text": [
      "Total belanja: Rp 220000\n",
      "Batas gratis ongkir: Rp 200002\n",
      "Status: Mendapatkan gratis ongkir\n"
     ]
    }
   ],
   "source": [
    "nim_terakhir = 2  # dari \"002\"\n",
    "\n",
    "total_belanja = 220000  \n",
    "batas_gratis_ongkir = 200000 + nim_terakhir\n",
    "\n",
    "if total_belanja > batas_gratis_ongkir:\n",
    "    status = \"Mendapatkan gratis ongkir\"\n",
    "else:\n",
    "    status = \"Tidak mendapatkan gratis ongkir\"\n",
    "\n",
    "print(f\"Total belanja: Rp {total_belanja}\")\n",
    "print(f\"Batas gratis ongkir: Rp {batas_gratis_ongkir}\")\n",
    "print(f\"Status: {status}\")\n"
   ]
  },
  {
   "cell_type": "markdown",
   "metadata": {},
   "source": [
    "# No. 4"
   ]
  },
  {
   "cell_type": "code",
   "execution_count": 4,
   "metadata": {},
   "outputs": [
    {
     "name": "stdout",
     "output_type": "stream",
     "text": [
      "Gaji dasar: Rp 1800000\n",
      "Bonus: Rp 180002.0\n",
      "Total gaji: Rp 1980002.0\n"
     ]
    }
   ],
   "source": [
    "nim_terakhir = 2  # dari \"002\"\n",
    "\n",
    "gaji_per_jam = 40000  \n",
    "jam_kerja = 45  \n",
    "gaji_dasar = gaji_per_jam * jam_kerja\n",
    "\n",
    "if jam_kerja > 40:\n",
    "    bonus = (0.10 * gaji_dasar) + nim_terakhir\n",
    "else:\n",
    "    bonus = 0\n",
    "\n",
    "total_gaji = gaji_dasar + bonus\n",
    "\n",
    "print(f\"Gaji dasar: Rp {gaji_dasar}\")\n",
    "print(f\"Bonus: Rp {bonus}\")\n",
    "print(f\"Total gaji: Rp {total_gaji}\")\n"
   ]
  },
  {
   "cell_type": "markdown",
   "metadata": {},
   "source": [
    "# No. 5"
   ]
  },
  {
   "cell_type": "code",
   "execution_count": 6,
   "metadata": {},
   "outputs": [
    {
     "name": "stdout",
     "output_type": "stream",
     "text": [
      "Total pesanan: Rp 60000\n",
      "Batas pajak: Rp 49998\n",
      "Pajak: Rp 3000.0\n",
      "Total biaya yang harus dibayar: Rp 63000.0\n"
     ]
    }
   ],
   "source": [
    "nim_terakhir = 2  # dari \"002\"\n",
    "\n",
    "total_pesanan = 60000 \n",
    "batas_pajak = 50000 - nim_terakhir\n",
    "\n",
    "if total_pesanan > batas_pajak:\n",
    "    pajak = 0.05 * total_pesanan\n",
    "else:\n",
    "    pajak = 0\n",
    "\n",
    "total_biaya = total_pesanan + pajak\n",
    "\n",
    "print(f\"Total pesanan: Rp {total_pesanan}\")\n",
    "print(f\"Batas pajak: Rp {batas_pajak}\")\n",
    "print(f\"Pajak: Rp {pajak}\")\n",
    "print(f\"Total biaya yang harus dibayar: Rp {total_biaya}\")"
   ]
  },
  {
   "cell_type": "markdown",
   "metadata": {},
   "source": [
    "# No. 6"
   ]
  },
  {
   "cell_type": "code",
   "execution_count": 7,
   "metadata": {},
   "outputs": [
    {
     "name": "stdout",
     "output_type": "stream",
     "text": [
      "Jarak lari: 5 km\n",
      "Target minimal: 2 km\n",
      "Status: Berhasil memenuhi target\n"
     ]
    }
   ],
   "source": [
    "nim_terakhir = 2  # dari \"002\"\n",
    "\n",
    "jarak_lari = 5  # dalam km\n",
    "\n",
    "if jarak_lari > nim_terakhir:\n",
    "    status = \"Berhasil memenuhi target\"\n",
    "else:\n",
    "    status = \"Belum memenuhi target\"\n",
    "\n",
    "print(f\"Jarak lari: {jarak_lari} km\")\n",
    "print(f\"Target minimal: {nim_terakhir} km\")\n",
    "print(f\"Status: {status}\")\n"
   ]
  },
  {
   "cell_type": "markdown",
   "metadata": {},
   "source": [
    "# No. 7"
   ]
  },
  {
   "cell_type": "code",
   "execution_count": 8,
   "metadata": {},
   "outputs": [
    {
     "name": "stdout",
     "output_type": "stream",
     "text": [
      "Usia anak: 4 tahun\n",
      "Harga tiket: Rp 0.00\n"
     ]
    }
   ],
   "source": [
    "nim_terakhir = 2  # dari \"002\"\n",
    "\n",
    "harga_tiket = 50000  \n",
    "usia_anak = 4 \n",
    "\n",
    "if usia_anak < 5:\n",
    "    if nim_terakhir % 2 == 0:\n",
    "        harga_tiket = 0  \n",
    "    else:\n",
    "        harga_tiket *= 0.5  \n",
    "\n",
    "\n",
    "print(f\"Usia anak: {usia_anak} tahun\")\n",
    "print(f\"Harga tiket: Rp {harga_tiket:.2f}\")\n"
   ]
  },
  {
   "cell_type": "markdown",
   "metadata": {},
   "source": [
    "# No. 8"
   ]
  },
  {
   "cell_type": "code",
   "execution_count": 9,
   "metadata": {},
   "outputs": [
    {
     "name": "stdout",
     "output_type": "stream",
     "text": [
      "Jumlah buku: 6\n",
      "Total harga sebelum diskon: Rp 300000\n",
      "Diskon: 10.0%\n",
      "Total harga setelah diskon: Rp 270000.00\n"
     ]
    }
   ],
   "source": [
    "nim_terakhir = 2  # dari \"002\"\n",
    "\n",
    "harga_per_buku = 50000  \n",
    "jumlah_buku = 6 \n",
    "\n",
    "if jumlah_buku > 5 and nim_terakhir > 300:\n",
    "    diskon = 0.20  \n",
    "else:\n",
    "    diskon = 0.10  \n",
    "\n",
    "total_harga = jumlah_buku * harga_per_buku\n",
    "total_harga_setelah_diskon = total_harga * (1 - diskon)\n",
    "\n",
    "print(f\"Jumlah buku: {jumlah_buku}\")\n",
    "print(f\"Total harga sebelum diskon: Rp {total_harga}\")\n",
    "print(f\"Diskon: {diskon * 100}%\")\n",
    "print(f\"Total harga setelah diskon: Rp {total_harga_setelah_diskon:.2f}\")\n"
   ]
  },
  {
   "cell_type": "markdown",
   "metadata": {},
   "source": [
    "# No. 9"
   ]
  },
  {
   "cell_type": "code",
   "execution_count": 13,
   "metadata": {},
   "outputs": [
    {
     "name": "stdout",
     "output_type": "stream",
     "text": [
      "Bilangan yang dimasukkan: 25\n",
      "Hasil berdasarkan NIM (2): Genap\n"
     ]
    }
   ],
   "source": [
    "nim_terakhir = 2  # dari \"002\"\n",
    "\n",
    "bilangan = 25\n",
    "\n",
    "if nim_terakhir % 2 == 0:\n",
    "    hasil = \"Genap\"\n",
    "else:\n",
    "    hasil = \"Ganjil\"\n",
    "\n",
    "print(f\"Bilangan yang dimasukkan: {bilangan}\")\n",
    "print(f\"Hasil berdasarkan NIM ({nim_terakhir}): {hasil}\")\n"
   ]
  },
  {
   "cell_type": "markdown",
   "metadata": {},
   "source": [
    "# No. 10"
   ]
  },
  {
   "cell_type": "code",
   "execution_count": 14,
   "metadata": {},
   "outputs": [
    {
     "name": "stdout",
     "output_type": "stream",
     "text": [
      "Tahun yang dimasukkan: 2025\n",
      "Hasil berdasarkan NIM (2): Kabisat\n"
     ]
    }
   ],
   "source": [
    "nim_terakhir = 2  # dari \"002\"\n",
    "\n",
    "tahun = 2025\n",
    "\n",
    "if nim_terakhir % 2 == 0:\n",
    "    hasil = \"Kabisat\"\n",
    "else:\n",
    "    hasil = \"Bukan Kabisat\"\n",
    "\n",
    "print(f\"Tahun yang dimasukkan: {tahun}\")\n",
    "print(f\"Hasil berdasarkan NIM ({nim_terakhir}): {hasil}\")"
   ]
  },
  {
   "cell_type": "markdown",
   "metadata": {},
   "source": [
    "# No. 11"
   ]
  },
  {
   "cell_type": "code",
   "execution_count": 15,
   "metadata": {},
   "outputs": [
    {
     "name": "stdout",
     "output_type": "stream",
     "text": [
      "Cetakan ke-1:\n",
      "- laptop\n",
      "- iphone\n",
      "- jam tangan\n",
      "- Sepatu\n",
      "- topi\n",
      "\n",
      "Cetakan ke-2:\n",
      "- laptop\n",
      "- iphone\n",
      "- jam tangan\n",
      "- Sepatu\n",
      "- topi\n",
      "\n"
     ]
    }
   ],
   "source": [
    "nim_terakhir = 2  # dari \"002\"\n",
    "\n",
    "jumlah_cetak = nim_terakhir % 10\n",
    "\n",
    "daftar_belanja = [\"laptop\", \"iphone\", \"jam tangan\", \"Sepatu\", \"topi\"]\n",
    "\n",
    "for i in range(jumlah_cetak):\n",
    "    print(f\"Cetakan ke-{i+1}:\")\n",
    "    for item in daftar_belanja:\n",
    "        print(f\"- {item}\")\n",
    "    print()\n"
   ]
  },
  {
   "cell_type": "markdown",
   "metadata": {},
   "source": [
    "# No. 12"
   ]
  },
  {
   "cell_type": "code",
   "execution_count": 16,
   "metadata": {},
   "outputs": [
    {
     "name": "stdout",
     "output_type": "stream",
     "text": [
      "Bilangan kelipatan 2 dari 1 sampai 100:\n",
      "2\n",
      "4\n",
      "6\n",
      "8\n",
      "10\n",
      "12\n",
      "14\n",
      "16\n",
      "18\n",
      "20\n",
      "22\n",
      "24\n",
      "26\n",
      "28\n",
      "30\n",
      "32\n",
      "34\n",
      "36\n",
      "38\n",
      "40\n",
      "42\n",
      "44\n",
      "46\n",
      "48\n",
      "50\n",
      "52\n",
      "54\n",
      "56\n",
      "58\n",
      "60\n",
      "62\n",
      "64\n",
      "66\n",
      "68\n",
      "70\n",
      "72\n",
      "74\n",
      "76\n",
      "78\n",
      "80\n",
      "82\n",
      "84\n",
      "86\n",
      "88\n",
      "90\n",
      "92\n",
      "94\n",
      "96\n",
      "98\n",
      "100\n"
     ]
    }
   ],
   "source": [
    "nim_terakhir = 2  # dari \"002\"\n",
    "\n",
    "kelipatan = nim_terakhir % 5\n",
    "\n",
    "print(f\"Bilangan kelipatan {kelipatan} dari 1 sampai 100:\")\n",
    "for i in range(1, 101):\n",
    "    if i % kelipatan == 0:\n",
    "        print(i)\n"
   ]
  },
  {
   "cell_type": "markdown",
   "metadata": {},
   "source": [
    "# No. 13"
   ]
  },
  {
   "cell_type": "code",
   "execution_count": 17,
   "metadata": {},
   "outputs": [
    {
     "name": "stdout",
     "output_type": "stream",
     "text": [
      "Tabel perkalian 2:\n",
      "2 x 1 = 2\n",
      "2 x 2 = 4\n",
      "2 x 3 = 6\n",
      "2 x 4 = 8\n",
      "2 x 5 = 10\n",
      "2 x 6 = 12\n",
      "2 x 7 = 14\n",
      "2 x 8 = 16\n",
      "2 x 9 = 18\n",
      "2 x 10 = 20\n"
     ]
    }
   ],
   "source": [
    "nim_terakhir = 2  # dari \"002\"\n",
    "\n",
    "tabel_perkalian = nim_terakhir % 9\n",
    "\n",
    "print(f\"Tabel perkalian {tabel_perkalian}:\")\n",
    "for i in range(1, 11):\n",
    "    print(f\"{tabel_perkalian} x {i} = {tabel_perkalian * i}\")"
   ]
  },
  {
   "cell_type": "markdown",
   "metadata": {},
   "source": [
    "# No. 14"
   ]
  },
  {
   "cell_type": "code",
   "execution_count": 18,
   "metadata": {},
   "outputs": [
    {
     "name": "stdout",
     "output_type": "stream",
     "text": [
      "Pola bintang segitiga siku-siku dengan tinggi 2:\n",
      "*\n",
      "**\n"
     ]
    }
   ],
   "source": [
    "nim_terakhir = 2  # dari \"002\"\n",
    "\n",
    "tinggi = nim_terakhir % 7\n",
    "\n",
    "print(f\"Pola bintang segitiga siku-siku dengan tinggi {tinggi}:\")\n",
    "for i in range(1, tinggi + 1):\n",
    "    print(\"*\" * i)\n"
   ]
  },
  {
   "cell_type": "markdown",
   "metadata": {},
   "source": [
    "# No. 15"
   ]
  },
  {
   "cell_type": "code",
   "execution_count": 19,
   "metadata": {},
   "outputs": [
    {
     "name": "stdout",
     "output_type": "stream",
     "text": [
      "Bilangan prima dari 1 sampai 2:\n",
      "2 \n"
     ]
    }
   ],
   "source": [
    "nim_terakhir = 2  # dari \"002\"\n",
    "\n",
    "batas = nim_terakhir\n",
    "\n",
    "def is_prima(n):\n",
    "    if n < 2:\n",
    "        return False\n",
    "    for i in range(2, int(n ** 0.5) + 1):\n",
    "        if n % i == 0:\n",
    "            return False\n",
    "    return True\n",
    "\n",
    "print(f\"Bilangan prima dari 1 sampai {batas}:\")\n",
    "for i in range(1, batas + 1):\n",
    "    if is_prima(i):\n",
    "        print(i, end=\" \")\n",
    "print()\n"
   ]
  },
  {
   "cell_type": "markdown",
   "metadata": {},
   "source": [
    "# No. 16"
   ]
  },
  {
   "cell_type": "code",
   "execution_count": 20,
   "metadata": {},
   "outputs": [
    {
     "name": "stdout",
     "output_type": "stream",
     "text": [
      "Deret Fibonacci sebanyak 2 bilangan:\n",
      "0 1 \n"
     ]
    }
   ],
   "source": [
    "nim_terakhir = 2  # dari \"002\"\n",
    "\n",
    "jumlah_fibonacci = nim_terakhir % 10\n",
    "\n",
    "def fibonacci(n):\n",
    "    a, b = 0, 1\n",
    "    for _ in range(n):\n",
    "        print(a, end=\" \")\n",
    "        a, b = b, a + b\n",
    "    print()\n",
    "\n",
    "print(f\"Deret Fibonacci sebanyak {jumlah_fibonacci} bilangan:\")\n",
    "fibonacci(jumlah_fibonacci)\n"
   ]
  },
  {
   "cell_type": "markdown",
   "metadata": {},
   "source": [
    "# No. 17"
   ]
  },
  {
   "cell_type": "code",
   "execution_count": 22,
   "metadata": {},
   "outputs": [
    {
     "name": "stdout",
     "output_type": "stream",
     "text": [
      "Bilangan kelipatan 2 dari 1 sampai 100:\n",
      "2\n",
      "4\n",
      "6\n",
      "8\n",
      "10\n",
      "12\n",
      "14\n",
      "16\n",
      "18\n",
      "20\n",
      "22\n",
      "24\n",
      "26\n",
      "28\n",
      "30\n",
      "32\n",
      "34\n",
      "36\n",
      "38\n",
      "40\n",
      "42\n",
      "44\n",
      "46\n",
      "48\n",
      "50\n",
      "52\n",
      "54\n",
      "56\n",
      "58\n",
      "60\n",
      "62\n",
      "64\n",
      "66\n",
      "68\n",
      "70\n",
      "72\n",
      "74\n",
      "76\n",
      "78\n",
      "80\n",
      "82\n",
      "84\n",
      "86\n",
      "88\n",
      "90\n",
      "92\n",
      "94\n",
      "96\n",
      "98\n",
      "100\n"
     ]
    }
   ],
   "source": [
    "nim_terakhir = 2  # dari \"002\"\n",
    "\n",
    "kelipatan = nim_terakhir % 6\n",
    "\n",
    "print(f\"Bilangan kelipatan {kelipatan} dari 1 sampai 100:\")\n",
    "for i in range(1, 101):\n",
    "    if i % kelipatan == 0:\n",
    "        print(i)  \n"
   ]
  },
  {
   "cell_type": "markdown",
   "metadata": {},
   "source": [
    "# No. 18"
   ]
  },
  {
   "cell_type": "code",
   "execution_count": 24,
   "metadata": {},
   "outputs": [
    {
     "name": "stdout",
     "output_type": "stream",
     "text": [
      "Bilangan ganjil dari 1 sampai 2:\n",
      "1\n"
     ]
    }
   ],
   "source": [
    "nim_terakhir = 2  # dari \"002\"\n",
    "\n",
    "batas = nim_terakhir\n",
    "\n",
    "print(f\"Bilangan ganjil dari 1 sampai {batas}:\")\n",
    "for i in range(1, batas + 1, 2):  \n",
    "    print(i)\n"
   ]
  },
  {
   "cell_type": "markdown",
   "metadata": {},
   "source": [
    "# No. 19"
   ]
  },
  {
   "cell_type": "code",
   "execution_count": 26,
   "metadata": {},
   "outputs": [
    {
     "name": "stdout",
     "output_type": "stream",
     "text": [
      "Faktorial dari 2 adalah 2\n"
     ]
    }
   ],
   "source": [
    "import math\n",
    "\n",
    "nim_terakhir = 2  # dari \"002\"\n",
    "\n",
    "angka = nim_terakhir % 8\n",
    "hasil = math.factorial(angka)\n",
    "print(f\"Faktorial dari {angka} adalah {hasil}\")\n"
   ]
  },
  {
   "cell_type": "markdown",
   "metadata": {},
   "source": [
    "# No. 20"
   ]
  },
  {
   "cell_type": "code",
   "execution_count": 27,
   "metadata": {},
   "outputs": [
    {
     "name": "stdout",
     "output_type": "stream",
     "text": [
      "Terima Kasih\n",
      "Terima Kasih\n"
     ]
    }
   ],
   "source": [
    "nim_terakhir = 2  # dari \"002\"\n",
    "\n",
    "jumlah_cetak = nim_terakhir % 5\n",
    "\n",
    "for _ in range(jumlah_cetak):\n",
    "    print(\"Terima Kasih\")"
   ]
  }
 ],
 "metadata": {
  "kernelspec": {
   "display_name": "Python 3",
   "language": "python",
   "name": "python3"
  },
  "language_info": {
   "codemirror_mode": {
    "name": "ipython",
    "version": 3
   },
   "file_extension": ".py",
   "mimetype": "text/x-python",
   "name": "python",
   "nbconvert_exporter": "python",
   "pygments_lexer": "ipython3",
   "version": "3.13.2"
  }
 },
 "nbformat": 4,
 "nbformat_minor": 2
}
